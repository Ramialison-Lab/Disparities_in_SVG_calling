{
 "cells": [
  {
   "cell_type": "markdown",
   "id": "b24efd3d",
   "metadata": {},
   "source": [
    "## Analyse pre-processed data with scGCO"
   ]
  },
  {
   "cell_type": "code",
   "execution_count": null,
   "id": "23d7f7dc",
   "metadata": {},
   "outputs": [],
   "source": [
    "from math import gcd\n",
    "import numpy as np\n",
    "import scipy as sp\n",
    "import pandas as pd\n",
    "import matplotlib.pyplot as plt\n",
    "import matplotlib.image as mpimg\n",
    "from matplotlib import rcParams\n",
    "import seaborn as sns\n",
    "import csv\n",
    "import dill\n",
    "from sklearn.metrics.pairwise import cosine_distances\n",
    "from scGCO import *\n",
    "import scanpy as sc"
   ]
  },
  {
   "cell_type": "code",
   "execution_count": null,
   "id": "4db8836c",
   "metadata": {},
   "outputs": [],
   "source": [
    "#read dataframe of counts back in \n",
    "norm_counts = pd.read_csv('X.csv',header=None)\n",
    "norm_counts.head()"
   ]
  },
  {
   "cell_type": "code",
   "execution_count": null,
   "id": "611a4022",
   "metadata": {},
   "outputs": [],
   "source": [
    "##need to add in gene names and cell types\n",
    "obs_norm_counts = pd.read_csv('obs.csv')\n",
    "norm_counts_barcodes = obs_norm_counts[\"Unnamed: 0\"]\n",
    "\n",
    "#add this column as index to norm_counts\n",
    "norm_counts.index = norm_counts_barcodes"
   ]
  },
  {
   "cell_type": "code",
   "execution_count": null,
   "id": "661b5f9b",
   "metadata": {},
   "outputs": [],
   "source": [
    "##get gene names\n",
    "var_norm_counts = pd.read_csv('var.csv')\n",
    "var_genes = list(var_norm_counts[\"Unnamed: 0\"])\n",
    "\n",
    "#add these as column names\n",
    "norm_counts.columns = var_gene"
   ]
  },
  {
   "cell_type": "code",
   "execution_count": null,
   "id": "55ba7c30",
   "metadata": {},
   "outputs": [],
   "source": [
    "array_row = list(ffpe_human_prostate.obs[\"array_row\"])\n",
    "array_col = list(ffpe_human_prostate.obs[\"array_col\"])\n",
    "locs = np.column_stack((array_col,array_row))"
   ]
  },
  {
   "cell_type": "code",
   "execution_count": null,
   "id": "3722ebe1",
   "metadata": {},
   "outputs": [],
   "source": [
    "#begin scGCO processing for determing presence of SVGs\n",
    "#create graph connecting space and spots\n",
    "exp= norm_counts.iloc[:,0]\n",
    "cellGraph= create_graph_with_weight(locs, exp)\n",
    "\n",
    "#Look at graph\n",
    "fig, ax= plt.subplots(1,1,figsize=(5,5)) #, dpi=300)\n",
    "ax.set_aspect('equal')"
   ]
  },
  {
   "cell_type": "code",
   "execution_count": null,
   "id": "b50c67c7",
   "metadata": {},
   "outputs": [],
   "source": [
    "exp= norm_counts.iloc[:,0].values\n",
    "cellGraph = create_graph_with_weight(locs, exp)\n",
    "ax.scatter(locs[:,0], locs[:,1], s=1, color='black')\n",
    "for i in np.arange(cellGraph.shape[0]):\n",
    "    x = (locs[int(cellGraph[i,0]), 0], locs[int(cellGraph[i,1]), 0]) \n",
    "    y = (locs[int(cellGraph[i,0]), 1], locs[int(cellGraph[i,1]), 1])     \n",
    "    ax.plot(x, y, color='black', linewidth=0.5)\n",
    "    \n",
    "plt.title('CellGraph')"
   ]
  },
  {
   "cell_type": "code",
   "execution_count": null,
   "id": "ef707285",
   "metadata": {},
   "outputs": [],
   "source": [
    "#Skip to step 2: Gene expression processing with Gaussian mixture modelling\n",
    "output_dir = 'scGCO_outputs/'\n",
    "if not os.path.exists(output_dir):\n",
    "    os.makedirs(output_dir) \n",
    "    \n",
    "import time\n",
    "t0 = time.time()\n",
    "gmmDict=multiGMM(norm_counts)\n",
    "t1= time.time()\n",
    "print(t1-t0, ' second')\n",
    "\n",
    "# # save gmm results\n",
    "fileName=os.path.join(output_dir,\"ffpe_prostate_scanpy_scgco_gmmDict.pkl\")\n",
    "\n",
    "store_gmm(gmmDict,fileName)"
   ]
  },
  {
   "cell_type": "code",
   "execution_count": null,
   "id": "dc878963",
   "metadata": {},
   "outputs": [],
   "source": [
    "#Run main function to identify SVGs\n",
    "t0= time.time()\n",
    "result_df= identify_spatial_genes(locs, norm_counts, \n",
    "                                    cellGraph ,gmmDict)\n",
    "print('Running time: {} seconds'.format(time.time()-t0))\n",
    "\n",
    "#write to filenn\n",
    "write_result_to_csv(result_df,'ffpe_prostate_scGCO_svgs.csv')"
   ]
  },
  {
   "cell_type": "code",
   "execution_count": null,
   "id": "7cb6795b",
   "metadata": {},
   "outputs": [],
   "source": [
    "#Select genes with an fdr cut-off of 0.05\n",
    "fdr_cutoff=0.05\n",
    "fdr_df=result_df.sort_values('fdr').loc[result_df.fdr<fdr_cutoff,]\n",
    "\n",
    "\n",
    "#save these genes to a file\n",
    "fdr_df.to_csv('ffpe_prostate_scGCO_sig_svgs.csv')"
   ]
  }
 ],
 "metadata": {
  "kernelspec": {
   "display_name": "spatialde",
   "language": "python",
   "name": "spatialde"
  },
  "language_info": {
   "codemirror_mode": {
    "name": "ipython",
    "version": 3
   },
   "file_extension": ".py",
   "mimetype": "text/x-python",
   "name": "python",
   "nbconvert_exporter": "python",
   "pygments_lexer": "ipython3",
   "version": "3.10.4"
  }
 },
 "nbformat": 4,
 "nbformat_minor": 5
}
