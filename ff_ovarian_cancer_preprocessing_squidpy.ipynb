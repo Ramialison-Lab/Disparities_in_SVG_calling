{
 "cells": [
  {
   "cell_type": "markdown",
   "id": "d65eeb96",
   "metadata": {},
   "source": [
    "## Analysis of FF Endometrial Adenocarcinoma Dataset"
   ]
  },
  {
   "cell_type": "code",
   "execution_count": 1,
   "id": "4c05f840",
   "metadata": {},
   "outputs": [],
   "source": [
    "import scanpy as sc\n",
    "import numpy as np\n",
    "import scipy as sp\n",
    "import pandas as pd\n",
    "import matplotlib.pyplot as plt\n",
    "import matplotlib.image as mpimg\n",
    "from matplotlib import rcParams\n",
    "import seaborn as sns\n",
    "import squidpy as sq\n",
    "import csv\n",
    "from sklearn.metrics.pairwise import cosine_distances\n",
    "\n",
    "plt.rcParams['figure.figsize']=(8,8)\n",
    "\n",
    "\n",
    "%load_ext autoreload\n",
    "%autoreload 2\n"
   ]
  },
  {
   "cell_type": "markdown",
   "id": "73ba5dbb",
   "metadata": {},
   "source": [
    "### First pre-process data with scanpy"
   ]
  },
  {
   "cell_type": "code",
   "execution_count": null,
   "id": "175b8e31",
   "metadata": {},
   "outputs": [
    {
     "name": "stderr",
     "output_type": "stream",
     "text": [
      "100%|██████████████████████████████████████| 6.84M/6.84M [00:02<00:00, 3.03MB/s]\n",
      "  1%|▎                                       | 136k/16.1M [00:00<00:44, 380kB/s]"
     ]
    }
   ],
   "source": [
    "##Load in data\n",
    "ff_human_ovarian_cancer = sc.datasets.visium_sge('Parent_Visium_Human_OvarianCancer')\n",
    "ff_human_ovarian_cancer.var_names_make_unique()"
   ]
  },
  {
   "cell_type": "code",
   "execution_count": null,
   "id": "f096e9d2",
   "metadata": {},
   "outputs": [],
   "source": [
    "ff_human_ovarian_cancer"
   ]
  },
  {
   "cell_type": "code",
   "execution_count": null,
   "id": "8790a1a3",
   "metadata": {},
   "outputs": [],
   "source": [
    "#Calculate some QC metrics for the data\n",
    "ff_human_ovarian_cancer.var[\"mt\"] = ff_human_ovarian_cancer.var_names.str.startswith(\"MT-\")\n",
    "sc.pp.calculate_qc_metrics(ff_human_ovarian_cancer, qc_vars=[\"mt\"], inplace=True)"
   ]
  },
  {
   "cell_type": "code",
   "execution_count": null,
   "id": "68604941",
   "metadata": {},
   "outputs": [],
   "source": [
    "##Filter by MT values\n",
    "ff_human_ovarian_cancer = ff_human_ovarian_cancer[ff_human_ovarian_cancer.obs[\"pct_counts_mt\"] < 15]\n",
    "ff_human_ovarian_cancer = ff_human_ovarian_cancer[ff_human_ovarian_cancer.obs[\"pct_counts_mt\"] > 2]"
   ]
  },
  {
   "cell_type": "code",
   "execution_count": null,
   "id": "ce20657b",
   "metadata": {},
   "outputs": [],
   "source": [
    "ff_human_ovarian_cancer.var[\"mt\"]\n",
    "ff_human_ovarian_cancer.var.sort_values(by=['mt'])"
   ]
  },
  {
   "cell_type": "code",
   "execution_count": null,
   "id": "fc1d55a8",
   "metadata": {},
   "outputs": [],
   "source": [
    "ff_human_ovarian_cancer.obs"
   ]
  },
  {
   "cell_type": "code",
   "execution_count": null,
   "id": "b183a1f0",
   "metadata": {},
   "outputs": [],
   "source": [
    "#Visualise some QC metrics for the data\n",
    "%matplotlib notebook\n",
    "\n",
    "fig, axs = plt.subplots(1, 4, figsize=(15, 4))\n",
    "sns.distplot(ff_human_ovarian_cancer.obs[\"total_counts\"], kde=False, ax=axs[0])\n",
    "sns.distplot(ff_human_ovarian_cancer.obs[\"total_counts\"][ff_human_ovarian_cancer.obs[\"total_counts\"] < 20000], kde=False, bins=40, ax=axs[1])\n",
    "sns.distplot(ff_human_ovarian_cancer.obs[\"n_genes_by_counts\"], kde=False, bins=60, ax=axs[2])\n",
    "sns.distplot(ff_human_ovarian_cancer.obs[\"n_genes_by_counts\"][ff_human_ovarian_cancer.obs[\"n_genes_by_counts\"] < 4000], kde=False, bins=60, ax=axs[3])\n",
    "sc.pl.violin(ff_human_ovarian_cancer,['pct_counts_mt'])"
   ]
  },
  {
   "cell_type": "code",
   "execution_count": null,
   "id": "b84dfa35",
   "metadata": {},
   "outputs": [],
   "source": [
    "ff_human_ovarian_cancer"
   ]
  },
  {
   "cell_type": "code",
   "execution_count": null,
   "id": "4584a7a2",
   "metadata": {},
   "outputs": [],
   "source": [
    "#Perform some filtering\n",
    "sc.pp.filter_cells(ff_human_ovarian_cancer, min_counts=2000)\n",
    "print(f'Number of cells after min count filter: {ff_human_ovarian_cancer.n_obs}')\n",
    "sc.pp.filter_cells(ff_human_ovarian_cancer, max_counts=20000)\n",
    "print(f'Number of cells after max count filter: {ff_human_ovarian_cancer.n_obs}')\n",
    "ff_human_ovarian_cancer = ff_human_ovarian_cancer[ff_human_ovarian_cancer.obs[\"pct_counts_mt\"] < 15]\n",
    "ff_human_ovarian_cancer = ff_human_ovarian_cancer[ff_human_ovarian_cancer.obs[\"pct_counts_mt\"] > 2]\n",
    "print(f\"#cells after MT filter: {ff_human_ovarian_cancer.n_obs}\")\n",
    "#Filter out genes that are detected in less than 10 cells\n",
    "sc.pp.filter_genes(ff_human_ovarian_cancer, min_cells=10)\n",
    "print(f'Number of genes after cell filter: {ff_human_ovarian_cancer.n_vars}')\n",
    "sc.pp.filter_cells(ff_human_ovarian_cancer, min_genes = 2000)\n",
    "print(f'Number of cells after gene filter: {ff_human_ovarian_cancer.n_obs}')"
   ]
  },
  {
   "cell_type": "code",
   "execution_count": null,
   "id": "686721a3",
   "metadata": {},
   "outputs": [],
   "source": [
    "##Do normalisation and find highly variable genes\n",
    "sc.pp.normalize_total(ff_human_ovarian_cancer, inplace=True)\n",
    "sc.pp.log1p(ff_human_ovarian_cancer)\n",
    "sc.pp.highly_variable_genes(ff_human_ovarian_cancer, flavor=\"seurat\", n_top_genes=2000)"
   ]
  },
  {
   "cell_type": "code",
   "execution_count": null,
   "id": "e8f4fc26",
   "metadata": {},
   "outputs": [],
   "source": [
    "#Look at same plots after filtering an normalisation\n",
    "fig, axs = plt.subplots(1, 2, figsize=(15, 4))\n",
    "sns.distplot(ff_human_ovarian_cancer.obs[\"total_counts\"], kde=False, ax=axs[0])\n",
    "sns.distplot(ff_human_ovarian_cancer.obs[\"n_genes_by_counts\"], kde=False, bins=60, ax=axs[1])"
   ]
  },
  {
   "cell_type": "code",
   "execution_count": null,
   "id": "3cc5fe05",
   "metadata": {},
   "outputs": [],
   "source": [
    "#Perform next steps in cluster identification\n",
    "sc.pp.pca(ff_human_ovarian_cancer,n_comps=20)\n",
    "sc.pp.neighbors(ff_human_ovarian_cancer)\n",
    "sc.tl.umap(ff_human_ovarian_cancer)\n",
    "sc.tl.leiden(ff_human_ovarian_cancer, key_added='clusters')"
   ]
  },
  {
   "cell_type": "code",
   "execution_count": null,
   "id": "0249dc58",
   "metadata": {},
   "outputs": [],
   "source": [
    "#Plot UMAPs\n",
    "plt.rcParams[\"figure.figsize\"] = (4, 4)\n",
    "sc.pl.umap(ff_human_ovarian_cancer, color=[\"total_counts\", \"n_genes_by_counts\", \"clusters\"], wspace=0.4)"
   ]
  },
  {
   "cell_type": "code",
   "execution_count": null,
   "id": "7e363e01",
   "metadata": {},
   "outputs": [],
   "source": [
    "#Visualise metrics in spatial coordinates\n",
    "plt.rcParams[\"figure.figsize\"] = (8, 8)\n",
    "sc.pl.spatial(ff_human_ovarian_cancer, img_key=\"hires\", color=[\"total_counts\", \"n_genes_by_counts\"])"
   ]
  },
  {
   "cell_type": "code",
   "execution_count": null,
   "id": "d590eec6",
   "metadata": {},
   "outputs": [],
   "source": [
    "#Visualise cell type clusters on image of. tissue\n",
    "sc.pl.spatial(ff_human_ovarian_cancer, img_key=\"hires\", color=\"clusters\", size=1.5)"
   ]
  },
  {
   "cell_type": "code",
   "execution_count": null,
   "id": "fff85663",
   "metadata": {
    "scrolled": true
   },
   "outputs": [],
   "source": [
    "#Visualise expression of a particular gene across tissue\n",
    "sc.pl.spatial(ff_human_ovarian_cancer, img_key = \"hires\", color=\"HLA-B\")"
   ]
  },
  {
   "cell_type": "markdown",
   "id": "118998c7",
   "metadata": {},
   "source": [
    "### Now perform SVG analysis with Squidpy"
   ]
  },
  {
   "cell_type": "code",
   "execution_count": null,
   "id": "08ff5d0c",
   "metadata": {},
   "outputs": [],
   "source": [
    "##Run moran's I on all genes in dataset\n",
    "sq.gr.spatial_neighbors(ff_human_ovarian_cancer, coord_type=\"generic\", delaunay=True)\n",
    "sq.gr.spatial_autocorr(ff_human_ovarian_cancer, genes=ff_human_ovarian_cancer.var_names, use_raw=False, mode=\"moran\")\n",
    "ff_human_ovarian_cancer.uns[\"moranI\"].head(10)"
   ]
  },
  {
   "cell_type": "code",
   "execution_count": null,
   "id": "a69873b5",
   "metadata": {},
   "outputs": [],
   "source": [
    "moran_I = pd.DataFrame(ff_human_ovarian_cancer.uns['moranI'].sort_values(ascending=False,by=['I']))\n",
    "\n",
    "##Sort this so corrected pvalue is above 0.05 and I is above 0.5\n",
    "moran_I = moran_I[moran_I['pval_norm_fdr_bh'] <=0.05]\n",
    "moran_I = moran_I[moran_I['I'] > 0]\n",
    "\n",
    "##Write out results\n",
    "moran_I.to_csv(\"ff_human_ovarian_cancer_squidpy_moranI_results_pval_fdr_bh_0.05_moransI_positive.csv\")"
   ]
  }
 ],
 "metadata": {
  "kernelspec": {
   "display_name": "squidpy",
   "language": "python",
   "name": "squidpy"
  },
  "language_info": {
   "codemirror_mode": {
    "name": "ipython",
    "version": 3
   },
   "file_extension": ".py",
   "mimetype": "text/x-python",
   "name": "python",
   "nbconvert_exporter": "python",
   "pygments_lexer": "ipython3",
   "version": "3.10.8"
  }
 },
 "nbformat": 4,
 "nbformat_minor": 5
}
